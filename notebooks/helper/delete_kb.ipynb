{
 "cells": [
  {
   "cell_type": "code",
   "execution_count": null,
   "metadata": {},
   "outputs": [],
   "source": [
    "import pyodbc\n",
    "conn = pyodbc.connect(open(\"./db_cnxn_str.txt\", 'r').read())\n",
    "cursor = conn.cursor()"
   ]
  },
  {
   "cell_type": "code",
   "execution_count": null,
   "metadata": {},
   "outputs": [],
   "source": [
    "conn.getinfo(pyodbc.SQL_DATA_SOURCE_NAME)"
   ]
  },
  {
   "cell_type": "code",
   "execution_count": null,
   "metadata": {},
   "outputs": [],
   "source": [
    "# Enter directory ID of knowledge base to be deleted\n",
    "\n",
    "dir_id = 48"
   ]
  },
  {
   "cell_type": "code",
   "execution_count": null,
   "metadata": {},
   "outputs": [],
   "source": [
    "# Delete feedback_log\n",
    "\n",
    "sql_statement = \"DELETE dbo.feedback_log \\\n",
    "FROM dbo.feedback_log \\\n",
    "INNER JOIN dbo.query_log ON dbo.feedback_log.query_log_id = dbo.query_log.id \\\n",
    "INNER JOIN dbo.kb_directory ON dbo.kb_directory.id = dbo.query_log.kb_dir_id \\\n",
    "WHERE dbo.kb_directory.id = %s\" % dir_id\n",
    "\n",
    "cursor.execute(sql_statement)\n",
    "conn.commit()"
   ]
  },
  {
   "cell_type": "code",
   "execution_count": null,
   "metadata": {},
   "outputs": [],
   "source": [
    "# Delete query_log\n",
    "\n",
    "sql_statement = \"DELETE dbo.query_log \\\n",
    "FROM dbo.query_log \\\n",
    "INNER JOIN dbo.kb_directory ON dbo.query_log.kb_dir_id = dbo.kb_directory.id \\\n",
    "WHERE dbo.kb_directory.id = %s\" % dir_id\n",
    "\n",
    "cursor.execute(sql_statement)\n",
    "conn.commit()"
   ]
  },
  {
   "cell_type": "code",
   "execution_count": null,
   "metadata": {},
   "outputs": [],
   "source": [
    "# Grab the ids to be deleted in query_db\n",
    "\n",
    "sql_statement = \"SELECT * \\\n",
    "FROM dbo.query_db \\\n",
    "INNER JOIN dbo.query_labels ON dbo.query_db.id = dbo.query_labels.query_id \\\n",
    "INNER JOIN dbo.kb_clauses ON dbo.query_labels.clause_id = dbo.kb_clauses.id \\\n",
    "INNER JOIN dbo.kb_raw ON dbo.kb_clauses.raw_id = dbo.kb_raw.id \\\n",
    "INNER JOIN dbo.kb_directory ON dbo.kb_raw.directory_id = dbo.kb_directory.id \\\n",
    "WHERE dbo.kb_directory.id = %s\" % dir_id\n",
    "\n",
    "cursor.execute(sql_statement)\n",
    "\n",
    "querydb_ids_to_delete = []\n",
    "for row in cursor.fetchall():\n",
    "    querydb_ids_to_delete.append(row[0])\n",
    "# conn.commit()"
   ]
  },
  {
   "cell_type": "code",
   "execution_count": null,
   "metadata": {},
   "outputs": [],
   "source": [
    "# Delete entries query_labels before query_db\n",
    "\n",
    "sql_statement = \"DELETE dbo.query_labels \\\n",
    "FROM dbo.query_labels \\\n",
    "INNER JOIN dbo.kb_clauses ON dbo.query_labels.clause_id = dbo.kb_clauses.id \\\n",
    "INNER JOIN dbo.kb_raw ON dbo.kb_clauses.raw_id = dbo.kb_raw.id \\\n",
    "INNER JOIN dbo.kb_directory ON dbo.kb_raw.directory_id = dbo.kb_directory.id \\\n",
    "WHERE dbo.kb_directory.id = %s\" % dir_id\n",
    "\n",
    "cursor.execute(sql_statement)\n",
    "conn.commit()"
   ]
  },
  {
   "cell_type": "code",
   "execution_count": null,
   "metadata": {},
   "outputs": [],
   "source": [
    "# Delete from query_db\n",
    "\n",
    "querydb_ids_to_delete\n",
    "\n",
    "for single_id in querydb_ids_to_delete:\n",
    "    cursor.execute(\"DELETE FROM dbo.query_db WHERE id = %s\" % single_id)\n",
    "    \n",
    "conn.commit()"
   ]
  },
  {
   "cell_type": "code",
   "execution_count": null,
   "metadata": {},
   "outputs": [],
   "source": [
    "# Delete kb_clauses\n",
    "\n",
    "sql_statement = \"DELETE dbo.kb_clauses \\\n",
    "FROM dbo.kb_clauses \\\n",
    "INNER JOIN dbo.kb_raw ON dbo.kb_clauses.raw_id = dbo.kb_raw.id \\\n",
    "INNER JOIN dbo.kb_directory ON dbo.kb_raw.directory_id = dbo.kb_directory.id \\\n",
    "WHERE dbo.kb_directory.id = %s\" % dir_id\n",
    "\n",
    "cursor.execute(sql_statement)\n",
    "conn.commit()"
   ]
  },
  {
   "cell_type": "code",
   "execution_count": null,
   "metadata": {},
   "outputs": [],
   "source": [
    "# Delete kb_raw\n",
    "\n",
    "sql_statement = \"DELETE dbo.kb_raw \\\n",
    "FROM dbo.kb_raw \\\n",
    "INNER JOIN dbo.kb_directory ON dbo.kb_raw.directory_id = dbo.kb_directory.id \\\n",
    "WHERE dbo.kb_directory.id = %s\" % dir_id\n",
    "\n",
    "cursor.execute(sql_statement)\n",
    "conn.commit()"
   ]
  },
  {
   "cell_type": "code",
   "execution_count": null,
   "metadata": {},
   "outputs": [],
   "source": [
    "# Delete kb_directory\n",
    "\n",
    "sql_statement = \"DELETE FROM dbo.kb_directory WHERE id = %s\" % dir_id\n",
    "\n",
    "cursor.execute(sql_statement)\n",
    "conn.commit()"
   ]
  },
  {
   "cell_type": "code",
   "execution_count": null,
   "metadata": {},
   "outputs": [],
   "source": []
  }
 ],
 "metadata": {
  "kernelspec": {
   "display_name": "Python (golden_re)",
   "language": "python",
   "name": "golden_re"
  },
  "language_info": {
   "codemirror_mode": {
    "name": "ipython",
    "version": 3
   },
   "file_extension": ".py",
   "mimetype": "text/x-python",
   "name": "python",
   "nbconvert_exporter": "python",
   "pygments_lexer": "ipython3",
   "version": "3.6.9"
  }
 },
 "nbformat": 4,
 "nbformat_minor": 2
}
