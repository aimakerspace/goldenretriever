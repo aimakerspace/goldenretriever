{
 "cells": [
  {
   "cell_type": "code",
   "execution_count": null,
   "metadata": {},
   "outputs": [],
   "source": [
    "import pandas as pd\n",
    "\n",
    "from src.data_handler.data_preprocessing import read_txt, split_txt\n",
    "\n",
    "qn_clause_df = pd.DataFrame({'question_clause':split_txt(read_txt('./data/aiap.txt'))})\n",
    "qn_clause_df"
   ]
  },
  {
   "cell_type": "code",
   "execution_count": null,
   "metadata": {},
   "outputs": [],
   "source": [
    "qn_clause_l = qn_clause_df[\"question_clause\"].tolist()\n",
    "qn_clause_l"
   ]
  },
  {
   "cell_type": "code",
   "execution_count": null,
   "metadata": {},
   "outputs": [],
   "source": [
    "qn_l = []\n",
    "clause_l = []\n",
    "\n",
    "for qc in qn_clause_l:\n",
    "    qc_st = qc.split('\\n', 1)\n",
    "    qn_l.append(qc_st[0])\n",
    "    clause_l.append(qc_st[1])"
   ]
  },
  {
   "cell_type": "code",
   "execution_count": null,
   "metadata": {},
   "outputs": [],
   "source": [
    "mappings_l = [(i, i) for i in range(10)]\n",
    "mappings_l"
   ]
  },
  {
   "cell_type": "code",
   "execution_count": null,
   "metadata": {},
   "outputs": [],
   "source": [
    "# Create a hashkey.txt file that contains the hashkey\n",
    "\n",
    "from hashkey import HASHKEY\n",
    "\n",
    "with open(\"./hashkey.txt\", \"r\") as file:\n",
    "    HASHKEY = file.read()"
   ]
  },
  {
   "cell_type": "code",
   "execution_count": null,
   "metadata": {},
   "outputs": [],
   "source": [
    "import requests\n",
    "\n",
    "url = \"http://localhost:5000/knowledge_base\" # hosted app on localhost\n",
    "# url = \"https://goldenretrieveraisg.azurewebsites.net/knowledge_base\"\n",
    "\n",
    "kb_dict = {\"responses\": clause_l,\n",
    "           \"contexts\": [],\n",
    "           \"queries\": qn_l,\n",
    "           \"mapping\": mappings_l}\n",
    "\n",
    "response = requests.request(\"POST\", url, json={\"hashkey\":HASHKEY,\n",
    "                                               \"kb_name\":\"AIAP\",\n",
    "                                               \"kb\":kb_dict})\n",
    "\n",
    "print(\"Status code: {}\".format(response.status_code))\n",
    "print(response.json())"
   ]
  }
 ],
 "metadata": {
  "kernelspec": {
   "display_name": "Python (golden_re)",
   "language": "python",
   "name": "golden_re"
  },
  "language_info": {
   "codemirror_mode": {
    "name": "ipython",
    "version": 3
   },
   "file_extension": ".py",
   "mimetype": "text/x-python",
   "name": "python",
   "nbconvert_exporter": "python",
   "pygments_lexer": "ipython3",
   "version": "3.6.9"
  }
 },
 "nbformat": 4,
 "nbformat_minor": 2
}
